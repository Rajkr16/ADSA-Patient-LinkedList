{
 "cells": [
  {
   "cell_type": "code",
   "execution_count": null,
   "id": "a76e5ae9-2700-4694-8867-acc3e94105ff",
   "metadata": {},
   "outputs": [
    {
     "name": "stdout",
     "output_type": "stream",
     "text": [
      "\n",
      "1. Add Patient\n",
      "2. Display Patients\n",
      "3. Delete Patient by ID\n",
      "4. Exit\n"
     ]
    },
    {
     "name": "stdin",
     "output_type": "stream",
     "text": [
      "Enter your choice (1/2/3/4):  1\n",
      "Enter patient name:  raj\n",
      "Enter patient age:  22\n",
      "Enter patient ID:  232\n"
     ]
    },
    {
     "name": "stdout",
     "output_type": "stream",
     "text": [
      "✅ Patient added successfully!\n",
      "\n",
      "1. Add Patient\n",
      "2. Display Patients\n",
      "3. Delete Patient by ID\n",
      "4. Exit\n"
     ]
    },
    {
     "name": "stdin",
     "output_type": "stream",
     "text": [
      "Enter your choice (1/2/3/4):  1\n",
      "Enter patient name:  hrsh\n",
      "Enter patient age:  22\n",
      "Enter patient ID:  3636\n"
     ]
    },
    {
     "name": "stdout",
     "output_type": "stream",
     "text": [
      "✅ Patient added successfully!\n",
      "\n",
      "1. Add Patient\n",
      "2. Display Patients\n",
      "3. Delete Patient by ID\n",
      "4. Exit\n"
     ]
    },
    {
     "name": "stdin",
     "output_type": "stream",
     "text": [
      "Enter your choice (1/2/3/4):  2\n"
     ]
    },
    {
     "name": "stdout",
     "output_type": "stream",
     "text": [
      "\n",
      "--- Patient List ---\n",
      "Name: raj, Age: 22, ID: 232\n",
      "Name: hrsh, Age: 22, ID: 3636\n",
      "\n",
      "1. Add Patient\n",
      "2. Display Patients\n",
      "3. Delete Patient by ID\n",
      "4. Exit\n"
     ]
    }
   ],
   "source": [
    "# Node class to store patient details\n",
    "class Node:\n",
    "    def __init__(self, name, age, patient_id):\n",
    "        self.name = name\n",
    "        self.age = age\n",
    "        self.patient_id = patient_id\n",
    "        self.next = None\n",
    "\n",
    "\n",
    "# Linked List class to manage patients\n",
    "class PatientLinkedList:\n",
    "    def __init__(self):\n",
    "        self.head = None\n",
    "\n",
    "    # Insert patient at the end\n",
    "    def insert_patient(self, name, age, patient_id):\n",
    "        new_node = Node(name, age, patient_id)\n",
    "        if self.head is None:\n",
    "            self.head = new_node\n",
    "        else:\n",
    "            temp = self.head\n",
    "            while temp.next:\n",
    "                temp = temp.next\n",
    "            temp.next = new_node\n",
    "\n",
    "    # Display all patients\n",
    "    def display_patients(self):\n",
    "        temp = self.head\n",
    "        if temp is None:\n",
    "            print(\"\\nNo patients in the list.\")\n",
    "            return\n",
    "        print(\"\\n--- Patient List ---\")\n",
    "        while temp:\n",
    "            print(f\"Name: {temp.name}, Age: {temp.age}, ID: {temp.patient_id}\")\n",
    "            temp = temp.next\n",
    "\n",
    "    # Delete a patient by ID\n",
    "    def delete_patient(self, patient_id):\n",
    "        temp = self.head\n",
    "\n",
    "        # If list is empty\n",
    "        if temp is None:\n",
    "            print(\"\\nNo patients to delete.\")\n",
    "            return\n",
    "\n",
    "        # If head node itself holds the patient to be deleted\n",
    "        if temp.patient_id == patient_id:\n",
    "            self.head = temp.next\n",
    "            print(f\"\\n✅ Patient with ID {patient_id} deleted successfully.\")\n",
    "            return\n",
    "\n",
    "        # Search for the patient to be deleted\n",
    "        prev = None\n",
    "        while temp is not None and temp.patient_id != patient_id:\n",
    "            prev = temp\n",
    "            temp = temp.next\n",
    "\n",
    "        # If patient not found\n",
    "        if temp is None:\n",
    "            print(f\"\\n❌ Patient with ID {patient_id} not found.\")\n",
    "            return\n",
    "\n",
    "        # Unlink the node\n",
    "        prev.next = temp.next\n",
    "        print(f\"\\n✅ Patient with ID {patient_id} deleted successfully.\")\n",
    "\n",
    "\n",
    "# Main program\n",
    "if __name__ == \"__main__\":\n",
    "    L = PatientLinkedList()\n",
    "\n",
    "    while True:\n",
    "        print(\"\\n1. Add Patient\")\n",
    "        print(\"2. Display Patients\")\n",
    "        print(\"3. Delete Patient by ID\")\n",
    "        print(\"4. Exit\")\n",
    "        choice = input(\"Enter your choice (1/2/3/4): \")\n",
    "\n",
    "        if choice == '1':\n",
    "            name = input(\"Enter patient name: \")\n",
    "            age = int(input(\"Enter patient age: \"))\n",
    "            patient_id = int(input(\"Enter patient ID: \"))\n",
    "            L.insert_patient(name, age, patient_id)\n",
    "            print(\"✅ Patient added successfully!\")\n",
    "\n",
    "        elif choice == '2':\n",
    "            L.display_patients()\n",
    "\n",
    "        elif choice == '3':\n",
    "            patient_id = int(input(\"Enter patient ID to delete: \"))\n",
    "            L.delete_patient(patient_id)\n",
    "\n",
    "        elif choice == '4':\n",
    "            print(\"👋 Exiting program... Goodbye!\")\n",
    "            break\n",
    "\n",
    "        else:\n",
    "            print(\"❌ Invalid choice. Please enter 1, 2, 3, or 4.\")\n"
   ]
  }
 ],
 "metadata": {
  "kernelspec": {
   "display_name": "Python [conda env:base] *",
   "language": "python",
   "name": "conda-base-py"
  },
  "language_info": {
   "codemirror_mode": {
    "name": "ipython",
    "version": 3
   },
   "file_extension": ".py",
   "mimetype": "text/x-python",
   "name": "python",
   "nbconvert_exporter": "python",
   "pygments_lexer": "ipython3",
   "version": "3.13.5"
  }
 },
 "nbformat": 4,
 "nbformat_minor": 5
}
